{
 "cells": [
  {
   "cell_type": "code",
   "execution_count": 33,
   "id": "52c2975c",
   "metadata": {},
   "outputs": [],
   "source": [
    "import numpy as np\n",
    "a=-1\n",
    "b=0.9\n",
    "tol = 1e-6\n",
    "itr=50"
   ]
  },
  {
   "cell_type": "code",
   "execution_count": 42,
   "id": "630a8e39",
   "metadata": {},
   "outputs": [],
   "source": [
    "def bisection (a,b,tol,itr):\n",
    "    fa=f(a)\n",
    "    for k in range(1,itr):\n",
    "        c=(a+b)/2\n",
    "        fc=f(c)\n",
    "        if(abs(fc)<tol):\n",
    "            break\n",
    "\n",
    "        if (fa*fc)<0:\n",
    "            b=c\n",
    "        else:\n",
    "            a=c\n",
    "            fa=fc\n",
    "    return c"
   ]
  },
  {
   "cell_type": "code",
   "execution_count": 35,
   "id": "1c3d423b",
   "metadata": {},
   "outputs": [],
   "source": [
    "def f(x):\n",
    "    y=2*3.14*(x+0.25)**2+2*3.14*(x+0.25)*1000/(3.14*x**2)\n",
    "    return y    "
   ]
  },
  {
   "cell_type": "code",
   "execution_count": 40,
   "id": "cc184aa0",
   "metadata": {},
   "outputs": [
    {
     "data": {
      "text/plain": [
       "0.0"
      ]
     },
     "execution_count": 40,
     "metadata": {},
     "output_type": "execute_result"
    }
   ],
   "source": [
    "f(-0.25)"
   ]
  },
  {
   "cell_type": "code",
   "execution_count": 43,
   "id": "8f982673",
   "metadata": {},
   "outputs": [
    {
     "data": {
      "text/plain": [
       "-0.2499999999970896"
      ]
     },
     "execution_count": 43,
     "metadata": {},
     "output_type": "execute_result"
    }
   ],
   "source": [
    "bisection (a,b,tol,itr)"
   ]
  },
  {
   "cell_type": "code",
   "execution_count": null,
   "id": "c9c761ef",
   "metadata": {},
   "outputs": [],
   "source": []
  }
 ],
 "metadata": {
  "kernelspec": {
   "display_name": "Python 3 (ipykernel)",
   "language": "python",
   "name": "python3"
  },
  "language_info": {
   "codemirror_mode": {
    "name": "ipython",
    "version": 3
   },
   "file_extension": ".py",
   "mimetype": "text/x-python",
   "name": "python",
   "nbconvert_exporter": "python",
   "pygments_lexer": "ipython3",
   "version": "3.9.13"
  }
 },
 "nbformat": 4,
 "nbformat_minor": 5
}
